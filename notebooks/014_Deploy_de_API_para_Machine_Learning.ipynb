{
  "nbformat": 4,
  "nbformat_minor": 0,
  "metadata": {
    "colab": {
      "name": "014 - Deploy de API para Machine Learning.ipynb",
      "provenance": [],
      "toc_visible": true,
      "authorship_tag": "ABX9TyO6w6TJPheONdSmxLA/J/kA",
      "include_colab_link": true
    },
    "kernelspec": {
      "name": "python3",
      "display_name": "Python 3"
    },
    "language_info": {
      "name": "python"
    }
  },
  "cells": [
    {
      "cell_type": "markdown",
      "metadata": {
        "id": "view-in-github",
        "colab_type": "text"
      },
      "source": [
        "<a href=\"https://colab.research.google.com/github/virb30/machine_learning_api/blob/master/notebooks/014_Deploy_de_API_para_Machine_Learning.ipynb\" target=\"_parent\"><img src=\"https://colab.research.google.com/assets/colab-badge.svg\" alt=\"Open In Colab\"/></a>"
      ]
    },
    {
      "cell_type": "markdown",
      "metadata": {
        "id": "_B6bYbEhYRky"
      },
      "source": [
        "# Deploy API para Machine Learning\n",
        "\n",
        "## Boston Housing Dataset"
      ]
    },
    {
      "cell_type": "code",
      "metadata": {
        "id": "buQjya8vX2pN"
      },
      "source": [
        "!pip install tensorflow -q"
      ],
      "execution_count": null,
      "outputs": []
    },
    {
      "cell_type": "code",
      "metadata": {
        "id": "W4cPx_pmYnS8"
      },
      "source": [
        "import pandas as pd\n",
        "import numpy as np\n",
        "import tensorflow as tf\n",
        "from tensorflow import keras\n",
        "from tensorflow.keras.datasets import boston_housing\n",
        "from sklearn.preprocessing import StandardScaler\n",
        "from sklearn.model_selection import train_test_split"
      ],
      "execution_count": null,
      "outputs": []
    },
    {
      "cell_type": "code",
      "metadata": {
        "id": "wCvDjtaNZF7M"
      },
      "source": [
        "(train_data, train_targets), (test_data, test_targets) = boston_housing.load_data()"
      ],
      "execution_count": null,
      "outputs": []
    },
    {
      "cell_type": "code",
      "metadata": {
        "id": "n2UHt_EnZUcy"
      },
      "source": [
        "X_train, X_test, y_train, y_test = train_test_split(train_data, train_targets)\n",
        "\n",
        "scaler = StandardScaler()\n",
        "X_train = scaler.fit_transform(X_train)\n",
        "X_test = scaler.fit_transform(X_test)"
      ],
      "execution_count": null,
      "outputs": []
    },
    {
      "cell_type": "code",
      "metadata": {
        "colab": {
          "base_uri": "https://localhost:8080/"
        },
        "id": "sSInjUcUZmj6",
        "outputId": "0f12fa65-39aa-414c-a878-1e11d308404e"
      },
      "source": [
        "model = keras.models.Sequential()\n",
        "model.add(keras.layers.Dense(64, activation='relu', input_shape=X_train.shape[1:]))\n",
        "model.add(keras.layers.Dense(64, activation='relu'))\n",
        "model.add(keras.layers.Dense(1))\n",
        "\n",
        "model.summary()"
      ],
      "execution_count": null,
      "outputs": [
        {
          "output_type": "stream",
          "text": [
            "Model: \"sequential_1\"\n",
            "_________________________________________________________________\n",
            "Layer (type)                 Output Shape              Param #   \n",
            "=================================================================\n",
            "dense_3 (Dense)              (None, 64)                896       \n",
            "_________________________________________________________________\n",
            "dense_4 (Dense)              (None, 64)                4160      \n",
            "_________________________________________________________________\n",
            "dense_5 (Dense)              (None, 1)                 65        \n",
            "=================================================================\n",
            "Total params: 5,121\n",
            "Trainable params: 5,121\n",
            "Non-trainable params: 0\n",
            "_________________________________________________________________\n"
          ],
          "name": "stdout"
        }
      ]
    },
    {
      "cell_type": "code",
      "metadata": {
        "colab": {
          "base_uri": "https://localhost:8080/"
        },
        "id": "iGSeqrhWZ8NM",
        "outputId": "04d9eae4-fafb-4f98-93f5-38aaf25911c2"
      },
      "source": [
        "model.compile(optimizer='sgd', loss='mean_squared_error', metrics=['mae'])\n",
        "history = model.fit(X_train, y_train, epochs=100)"
      ],
      "execution_count": null,
      "outputs": [
        {
          "output_type": "stream",
          "text": [
            "Train on 303 samples\n",
            "Epoch 1/100\n",
            "303/303 [==============================] - 0s 1ms/sample - loss: 326.3157 - mae: 15.0395\n",
            "Epoch 2/100\n",
            "303/303 [==============================] - 0s 107us/sample - loss: 173.8687 - mae: 10.0619\n",
            "Epoch 3/100\n",
            "303/303 [==============================] - 0s 105us/sample - loss: 115.0202 - mae: 7.8538\n",
            "Epoch 4/100\n",
            "303/303 [==============================] - 0s 105us/sample - loss: 124.7723 - mae: 7.9394\n",
            "Epoch 5/100\n",
            "303/303 [==============================] - 0s 105us/sample - loss: 112.2784 - mae: 7.9248\n",
            "Epoch 6/100\n",
            "303/303 [==============================] - 0s 91us/sample - loss: 25.2290 - mae: 3.4019\n",
            "Epoch 7/100\n",
            "303/303 [==============================] - 0s 101us/sample - loss: 39.7530 - mae: 4.3058\n",
            "Epoch 8/100\n",
            "303/303 [==============================] - 0s 133us/sample - loss: 16.2859 - mae: 2.7964\n",
            "Epoch 9/100\n",
            "303/303 [==============================] - 0s 144us/sample - loss: 14.5205 - mae: 2.6526\n",
            "Epoch 10/100\n",
            "303/303 [==============================] - 0s 91us/sample - loss: 11.9958 - mae: 2.5161\n",
            "Epoch 11/100\n",
            "303/303 [==============================] - 0s 103us/sample - loss: 15.8661 - mae: 2.8032\n",
            "Epoch 12/100\n",
            "303/303 [==============================] - 0s 88us/sample - loss: 11.1655 - mae: 2.3063\n",
            "Epoch 13/100\n",
            "303/303 [==============================] - 0s 91us/sample - loss: 10.7378 - mae: 2.2533\n",
            "Epoch 14/100\n",
            "303/303 [==============================] - 0s 79us/sample - loss: 25.5869 - mae: 3.4275\n",
            "Epoch 15/100\n",
            "303/303 [==============================] - 0s 100us/sample - loss: 18.6626 - mae: 2.9870\n",
            "Epoch 16/100\n",
            "303/303 [==============================] - 0s 110us/sample - loss: 9.1815 - mae: 2.1567\n",
            "Epoch 17/100\n",
            "303/303 [==============================] - 0s 91us/sample - loss: 10.4065 - mae: 2.3632\n",
            "Epoch 18/100\n",
            "303/303 [==============================] - 0s 109us/sample - loss: 12.7544 - mae: 2.4402\n",
            "Epoch 19/100\n",
            "303/303 [==============================] - 0s 89us/sample - loss: 8.1047 - mae: 2.0615\n",
            "Epoch 20/100\n",
            "303/303 [==============================] - 0s 80us/sample - loss: 10.6131 - mae: 2.3591\n",
            "Epoch 21/100\n",
            "303/303 [==============================] - 0s 102us/sample - loss: 14.0632 - mae: 2.4589\n",
            "Epoch 22/100\n",
            "303/303 [==============================] - 0s 118us/sample - loss: 7.1579 - mae: 1.8694\n",
            "Epoch 23/100\n",
            "303/303 [==============================] - 0s 87us/sample - loss: 6.2196 - mae: 1.7586\n",
            "Epoch 24/100\n",
            "303/303 [==============================] - 0s 84us/sample - loss: 7.1077 - mae: 1.9498\n",
            "Epoch 25/100\n",
            "303/303 [==============================] - 0s 81us/sample - loss: 16.1636 - mae: 2.6423\n",
            "Epoch 26/100\n",
            "303/303 [==============================] - 0s 78us/sample - loss: 6.8954 - mae: 1.8560\n",
            "Epoch 27/100\n",
            "303/303 [==============================] - 0s 90us/sample - loss: 11.3458 - mae: 2.0983\n",
            "Epoch 28/100\n",
            "303/303 [==============================] - 0s 128us/sample - loss: 7.6889 - mae: 2.0089\n",
            "Epoch 29/100\n",
            "303/303 [==============================] - 0s 93us/sample - loss: 6.2520 - mae: 1.7461\n",
            "Epoch 30/100\n",
            "303/303 [==============================] - 0s 136us/sample - loss: 5.3125 - mae: 1.6345\n",
            "Epoch 31/100\n",
            "303/303 [==============================] - 0s 111us/sample - loss: 5.0035 - mae: 1.6283\n",
            "Epoch 32/100\n",
            "303/303 [==============================] - 0s 120us/sample - loss: 5.5577 - mae: 1.6935\n",
            "Epoch 33/100\n",
            "303/303 [==============================] - 0s 113us/sample - loss: 4.1584 - mae: 1.4603\n",
            "Epoch 34/100\n",
            "303/303 [==============================] - 0s 115us/sample - loss: 7.4058 - mae: 1.9471\n",
            "Epoch 35/100\n",
            "303/303 [==============================] - 0s 100us/sample - loss: 4.4195 - mae: 1.4638\n",
            "Epoch 36/100\n",
            "303/303 [==============================] - 0s 103us/sample - loss: 4.6635 - mae: 1.5346\n",
            "Epoch 37/100\n",
            "303/303 [==============================] - 0s 84us/sample - loss: 4.1039 - mae: 1.5094\n",
            "Epoch 38/100\n",
            "303/303 [==============================] - 0s 114us/sample - loss: 4.3843 - mae: 1.5021\n",
            "Epoch 39/100\n",
            "303/303 [==============================] - 0s 80us/sample - loss: 9.2962 - mae: 2.1512\n",
            "Epoch 40/100\n",
            "303/303 [==============================] - 0s 78us/sample - loss: 5.0789 - mae: 1.6183\n",
            "Epoch 41/100\n",
            "303/303 [==============================] - 0s 86us/sample - loss: 5.0117 - mae: 1.6310\n",
            "Epoch 42/100\n",
            "303/303 [==============================] - 0s 101us/sample - loss: 5.7646 - mae: 1.6753\n",
            "Epoch 43/100\n",
            "303/303 [==============================] - 0s 99us/sample - loss: 9.2208 - mae: 2.0182\n",
            "Epoch 44/100\n",
            "303/303 [==============================] - 0s 99us/sample - loss: 6.9403 - mae: 1.8240\n",
            "Epoch 45/100\n",
            "303/303 [==============================] - 0s 105us/sample - loss: 4.7483 - mae: 1.5353\n",
            "Epoch 46/100\n",
            "303/303 [==============================] - 0s 114us/sample - loss: 6.8212 - mae: 1.8614\n",
            "Epoch 47/100\n",
            "303/303 [==============================] - 0s 93us/sample - loss: 4.9161 - mae: 1.6316\n",
            "Epoch 48/100\n",
            "303/303 [==============================] - 0s 112us/sample - loss: 4.1084 - mae: 1.4635\n",
            "Epoch 49/100\n",
            "303/303 [==============================] - 0s 105us/sample - loss: 5.4505 - mae: 1.6103\n",
            "Epoch 50/100\n",
            "303/303 [==============================] - 0s 97us/sample - loss: 5.5338 - mae: 1.6666\n",
            "Epoch 51/100\n",
            "303/303 [==============================] - 0s 115us/sample - loss: 8.5710 - mae: 2.0711\n",
            "Epoch 52/100\n",
            "303/303 [==============================] - 0s 113us/sample - loss: 4.1253 - mae: 1.4565\n",
            "Epoch 53/100\n",
            "303/303 [==============================] - 0s 123us/sample - loss: 5.3290 - mae: 1.7461\n",
            "Epoch 54/100\n",
            "303/303 [==============================] - 0s 144us/sample - loss: 4.7300 - mae: 1.5307\n",
            "Epoch 55/100\n",
            "303/303 [==============================] - 0s 102us/sample - loss: 4.4014 - mae: 1.4556\n",
            "Epoch 56/100\n",
            "303/303 [==============================] - 0s 102us/sample - loss: 7.5456 - mae: 1.7644\n",
            "Epoch 57/100\n",
            "303/303 [==============================] - 0s 109us/sample - loss: 3.3024 - mae: 1.3603\n",
            "Epoch 58/100\n",
            "303/303 [==============================] - 0s 104us/sample - loss: 4.2335 - mae: 1.5083\n",
            "Epoch 59/100\n",
            "303/303 [==============================] - 0s 124us/sample - loss: 3.7013 - mae: 1.3848\n",
            "Epoch 60/100\n",
            "303/303 [==============================] - 0s 98us/sample - loss: 3.6334 - mae: 1.3171\n",
            "Epoch 61/100\n",
            "303/303 [==============================] - 0s 82us/sample - loss: 3.3564 - mae: 1.3328\n",
            "Epoch 62/100\n",
            "303/303 [==============================] - 0s 105us/sample - loss: 4.5843 - mae: 1.5565\n",
            "Epoch 63/100\n",
            "303/303 [==============================] - 0s 122us/sample - loss: 7.8011 - mae: 1.8857\n",
            "Epoch 64/100\n",
            "303/303 [==============================] - 0s 121us/sample - loss: 6.4328 - mae: 1.8354\n",
            "Epoch 65/100\n",
            "303/303 [==============================] - 0s 112us/sample - loss: 4.5094 - mae: 1.5738\n",
            "Epoch 66/100\n",
            "303/303 [==============================] - 0s 140us/sample - loss: 4.1429 - mae: 1.4571\n",
            "Epoch 67/100\n",
            "303/303 [==============================] - 0s 142us/sample - loss: 4.5203 - mae: 1.4490\n",
            "Epoch 68/100\n",
            "303/303 [==============================] - 0s 101us/sample - loss: 3.5853 - mae: 1.3626\n",
            "Epoch 69/100\n",
            "303/303 [==============================] - 0s 105us/sample - loss: 3.3128 - mae: 1.2557\n",
            "Epoch 70/100\n",
            "303/303 [==============================] - 0s 81us/sample - loss: 7.7266 - mae: 2.0098\n",
            "Epoch 71/100\n",
            "303/303 [==============================] - 0s 116us/sample - loss: 4.6214 - mae: 1.4853\n",
            "Epoch 72/100\n",
            "303/303 [==============================] - 0s 93us/sample - loss: 5.7566 - mae: 1.6157\n",
            "Epoch 73/100\n",
            "303/303 [==============================] - 0s 93us/sample - loss: 4.1994 - mae: 1.4396\n",
            "Epoch 74/100\n",
            "303/303 [==============================] - 0s 98us/sample - loss: 4.1880 - mae: 1.4912\n",
            "Epoch 75/100\n",
            "303/303 [==============================] - 0s 110us/sample - loss: 4.1471 - mae: 1.3693\n",
            "Epoch 76/100\n",
            "303/303 [==============================] - 0s 90us/sample - loss: 3.5267 - mae: 1.3649\n",
            "Epoch 77/100\n",
            "303/303 [==============================] - 0s 121us/sample - loss: 3.0185 - mae: 1.2442\n",
            "Epoch 78/100\n",
            "303/303 [==============================] - 0s 113us/sample - loss: 3.6554 - mae: 1.3108\n",
            "Epoch 79/100\n",
            "303/303 [==============================] - 0s 101us/sample - loss: 5.2689 - mae: 1.7577\n",
            "Epoch 80/100\n",
            "303/303 [==============================] - 0s 92us/sample - loss: 3.5258 - mae: 1.3309\n",
            "Epoch 81/100\n",
            "303/303 [==============================] - 0s 93us/sample - loss: 3.0048 - mae: 1.2176\n",
            "Epoch 82/100\n",
            "303/303 [==============================] - 0s 142us/sample - loss: 5.0776 - mae: 1.5601\n",
            "Epoch 83/100\n",
            "303/303 [==============================] - 0s 127us/sample - loss: 3.6894 - mae: 1.3603\n",
            "Epoch 84/100\n",
            "303/303 [==============================] - 0s 112us/sample - loss: 3.5303 - mae: 1.2779\n",
            "Epoch 85/100\n",
            "303/303 [==============================] - 0s 100us/sample - loss: 4.2671 - mae: 1.4358\n",
            "Epoch 86/100\n",
            "303/303 [==============================] - 0s 92us/sample - loss: 4.0145 - mae: 1.4437\n",
            "Epoch 87/100\n",
            "303/303 [==============================] - 0s 84us/sample - loss: 2.6179 - mae: 1.1754\n",
            "Epoch 88/100\n",
            "303/303 [==============================] - 0s 116us/sample - loss: 2.7700 - mae: 1.2519\n",
            "Epoch 89/100\n",
            "303/303 [==============================] - 0s 139us/sample - loss: 5.1223 - mae: 1.6207\n",
            "Epoch 90/100\n",
            "303/303 [==============================] - 0s 117us/sample - loss: 6.2105 - mae: 1.7610\n",
            "Epoch 91/100\n",
            "303/303 [==============================] - 0s 111us/sample - loss: 3.0247 - mae: 1.1887\n",
            "Epoch 92/100\n",
            "303/303 [==============================] - 0s 100us/sample - loss: 4.6965 - mae: 1.5615\n",
            "Epoch 93/100\n",
            "303/303 [==============================] - 0s 121us/sample - loss: 2.7783 - mae: 1.2144\n",
            "Epoch 94/100\n",
            "303/303 [==============================] - 0s 128us/sample - loss: 2.5787 - mae: 1.1601\n",
            "Epoch 95/100\n",
            "303/303 [==============================] - 0s 103us/sample - loss: 3.6479 - mae: 1.3630\n",
            "Epoch 96/100\n",
            "303/303 [==============================] - 0s 123us/sample - loss: 5.7247 - mae: 1.6872\n",
            "Epoch 97/100\n",
            "303/303 [==============================] - 0s 102us/sample - loss: 3.0455 - mae: 1.2601\n",
            "Epoch 98/100\n",
            "303/303 [==============================] - 0s 109us/sample - loss: 3.0670 - mae: 1.2617\n",
            "Epoch 99/100\n",
            "303/303 [==============================] - 0s 99us/sample - loss: 2.7847 - mae: 1.1645\n",
            "Epoch 100/100\n",
            "303/303 [==============================] - 0s 118us/sample - loss: 2.9610 - mae: 1.2347\n"
          ],
          "name": "stdout"
        }
      ]
    },
    {
      "cell_type": "code",
      "metadata": {
        "colab": {
          "base_uri": "https://localhost:8080/",
          "height": 282
        },
        "id": "1Pe5FLgRaIaw",
        "outputId": "0829fb89-4ee8-4964-ce1c-ee6137e2122a"
      },
      "source": [
        "pd.DataFrame(history.history).plot()"
      ],
      "execution_count": null,
      "outputs": [
        {
          "output_type": "execute_result",
          "data": {
            "text/plain": [
              "<matplotlib.axes._subplots.AxesSubplot at 0x7f8f87259410>"
            ]
          },
          "metadata": {
            "tags": []
          },
          "execution_count": 22
        },
        {
          "output_type": "display_data",
          "data": {
            "image/png": "[encoded data removed]",
            "text/plain": [
              "<Figure size 432x288 with 1 Axes>"
            ]
          },
          "metadata": {
            "tags": [],
            "needs_background": "light"
          }
        }
      ]
    },
    {
      "cell_type": "code",
      "metadata": {
        "colab": {
          "base_uri": "https://localhost:8080/"
        },
        "id": "L6OodISeaRYl",
        "outputId": "fad47638-15b3-4590-9ae2-243ebba355f4"
      },
      "source": [
        "mae_test = model.evaluate(X_test, y_test)"
      ],
      "execution_count": null,
      "outputs": [
        {
          "output_type": "stream",
          "text": [
            "\r101/1 [======================================================================================================================================================================================================================================================================================================================================================================================================================================================================================================================================================================================================================================================================================================================================================================================================================================================================================================================================================================================================================================================================================================================================================================================================================================================================================================================================================================================================================================================================================================================================================================================================================================================================================================================================================================================================================================================================================================================================================================================================================================================================================================================================================================================================================================================================================================================================================================================================================================================================================================================================================================================================================================================================================================================================================================================================================================================================================================================================================================================================================================================================================================================================================] - 0s 876us/sample - loss: 12.2879 - mae: 2.8006\n"
          ],
          "name": "stdout"
        }
      ]
    },
    {
      "cell_type": "code",
      "metadata": {
        "id": "8rRVhFFEbIGq"
      },
      "source": [
        "model.save('boston_housing_model.h5')"
      ],
      "execution_count": null,
      "outputs": []
    },
    {
      "cell_type": "code",
      "metadata": {
        "colab": {
          "base_uri": "https://localhost:8080/"
        },
        "id": "9GnrfeMpjR1K",
        "outputId": "a090e5f6-0ed0-4a3b-e848-2254e5025076"
      },
      "source": [
        "X_train[0]"
      ],
      "execution_count": null,
      "outputs": [
        {
          "output_type": "execute_result",
          "data": {
            "text/plain": [
              "array([ 0.42846914, -0.43794015,  1.00374252, -0.25865307,  0.81616309,\n",
              "       -0.0362377 , -0.13055102, -0.38236272,  1.64473362,  1.54819626,\n",
              "        0.75572396,  0.44036105,  0.07417893])"
            ]
          },
          "metadata": {
            "tags": []
          },
          "execution_count": 29
        }
      ]
    },
    {
      "cell_type": "code",
      "metadata": {
        "id": "3Bfh6pQHbZl6"
      },
      "source": [
        "columns = ['crim', 'zn', 'indus', 'chas', 'nox', 'rm',\n",
        "           'age', 'dis', 'rad', 'tax', 'ptratio', 'b',\n",
        "           'lstat', 'medv']"
      ],
      "execution_count": null,
      "outputs": []
    },
    {
      "cell_type": "code",
      "metadata": {
        "id": "GM0P8AgHjI4E"
      },
      "source": [
        "values = [ 0.42846914, -0.43794015,  1.00374252, -0.25865307,  0.81616309,\n",
        "          -0.0362377 , -0.13055102, -0.38236272,  1.64473362,  1.54819626,\n",
        "           0.75572396,  0.44036105,  0.07417893]"
      ],
      "execution_count": null,
      "outputs": []
    },
    {
      "cell_type": "code",
      "metadata": {
        "id": "VK6Bi8v0kcHI"
      },
      "source": [
        "import json\n",
        "values_json = {\"valores\": dict(zip(columns, values))}"
      ],
      "execution_count": null,
      "outputs": []
    },
    {
      "cell_type": "code",
      "metadata": {
        "id": "07OZC8Q1kh6q"
      },
      "source": [
        "with open('valores.json', 'w') as json_file:\n",
        "  json.dump(values_json, json_file)"
      ],
      "execution_count": null,
      "outputs": []
    },
    {
      "cell_type": "code",
      "metadata": {
        "colab": {
          "base_uri": "https://localhost:8080/"
        },
        "id": "q9o9MvBEje0C",
        "outputId": "fdff6c26-d73e-4a92-cd54-74f15339a903"
      },
      "source": [
        "dict(zip(columns, values))"
      ],
      "execution_count": null,
      "outputs": [
        {
          "output_type": "execute_result",
          "data": {
            "text/plain": [
              "{'age': -0.13055102,\n",
              " 'b': 0.44036105,\n",
              " 'chas': -0.25865307,\n",
              " 'crim': 0.42846914,\n",
              " 'dis': -0.38236272,\n",
              " 'indus': 1.00374252,\n",
              " 'lstat': 0.07417893,\n",
              " 'nox': 0.81616309,\n",
              " 'ptratio': 0.75572396,\n",
              " 'rad': 1.64473362,\n",
              " 'rm': -0.0362377,\n",
              " 'tax': 1.54819626,\n",
              " 'zn': -0.43794015}"
            ]
          },
          "metadata": {
            "tags": []
          },
          "execution_count": 33
        }
      ]
    },
    {
      "cell_type": "code",
      "metadata": {
        "id": "y_F9_3ukkR-Q"
      },
      "source": [
        "lista = list(zip(columns, values))"
      ],
      "execution_count": null,
      "outputs": []
    },
    {
      "cell_type": "code",
      "metadata": {
        "id": "F79uHHX8jmtK"
      },
      "source": [
        "X_predict = np.asarray(list(values_json['valores'].values()))"
      ],
      "execution_count": null,
      "outputs": []
    },
    {
      "cell_type": "code",
      "metadata": {
        "colab": {
          "base_uri": "https://localhost:8080/"
        },
        "id": "G7FmkSWNlB4z",
        "outputId": "2c8bd10a-793a-4d14-dfed-c96d5f2d4d99"
      },
      "source": [
        "X_predict"
      ],
      "execution_count": null,
      "outputs": [
        {
          "output_type": "execute_result",
          "data": {
            "text/plain": [
              "array([ 0.42846914, -0.43794015,  1.00374252, -0.25865307,  0.81616309,\n",
              "       -0.0362377 , -0.13055102, -0.38236272,  1.64473362,  1.54819626,\n",
              "        0.75572396,  0.44036105,  0.07417893])"
            ]
          },
          "metadata": {
            "tags": []
          },
          "execution_count": 40
        }
      ]
    },
    {
      "cell_type": "code",
      "metadata": {
        "colab": {
          "base_uri": "https://localhost:8080/"
        },
        "id": "S9k9d9hjlEA5",
        "outputId": "d9120c6c-3a81-4c71-999c-fd7280ec39e8"
      },
      "source": [
        "model.predict(X_predict.reshape(1,-1))"
      ],
      "execution_count": null,
      "outputs": [
        {
          "output_type": "execute_result",
          "data": {
            "text/plain": [
              "array([[20.517666]], dtype=float32)"
            ]
          },
          "metadata": {
            "tags": []
          },
          "execution_count": 44
        }
      ]
    },
    {
      "cell_type": "code",
      "metadata": {
        "id": "Gub_89nVlNtq"
      },
      "source": [
        ""
      ],
      "execution_count": null,
      "outputs": []
    }
  ]
}